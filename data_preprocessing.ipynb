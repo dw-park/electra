{
 "cells": [
  {
   "cell_type": "code",
   "execution_count": null,
   "metadata": {},
   "outputs": [],
   "source": [
    "with open(\"/NAS_data/dwpark/corpus/clean.txt\") as fp:\n",
    "    corpus = fp.readlines()"
   ]
  },
  {
   "cell_type": "code",
   "execution_count": 32,
   "metadata": {},
   "outputs": [],
   "source": [
    "import kss\n",
    "import tqdm\n",
    "import random\n",
    "import logging\n",
    "from soynlp.normalizer import repeat_normalize\n",
    "import os"
   ]
  },
  {
   "cell_type": "code",
   "execution_count": 3,
   "metadata": {},
   "outputs": [
    {
     "data": {
      "text/plain": [
       "6009143"
      ]
     },
     "execution_count": 3,
     "metadata": {},
     "output_type": "execute_result"
    }
   ],
   "source": [
    "len(corpus)"
   ]
  },
  {
   "cell_type": "code",
   "execution_count": null,
   "metadata": {},
   "outputs": [],
   "source": [
    "# #여러줄로 나눠져 있는것들 한줄로 병합\n",
    "# paragraphs = []\n",
    "# tmp = []\n",
    "# for i, line in enumerate(tqdm.tqdm(corpus[:-1])):\n",
    "#     sent = corpus[i].strip()\n",
    "#     tmp = tmp + [sent] if sent != \"\" else tmp\n",
    "#     if corpus[i] == '\\n':\n",
    "#         paragraphs.append(\" \".join(tmp))\n",
    "#         tmp = []\n",
    "        \n",
    "# paragraphs.append(corpus[-1].strip())\n",
    "    "
   ]
  },
  {
   "cell_type": "code",
   "execution_count": null,
   "metadata": {},
   "outputs": [],
   "source": [
    "#랜덤 셔플\n",
    "# random.shuffle(paragraphs)"
   ]
  },
  {
   "cell_type": "code",
   "execution_count": 4,
   "metadata": {},
   "outputs": [
    {
     "name": "stderr",
     "output_type": "stream",
     "text": [
      "100%|██████████| 6009143/6009143 [00:12<00:00, 498454.80it/s]\n"
     ]
    }
   ],
   "source": [
    "#짧은 아티클 제거\n",
    "min_length = 50\n",
    "paragraphs = []\n",
    "for p in tqdm.tqdm(corpus):\n",
    "    if len(p) >= min_length:\n",
    "        paragraphs.append(p.strip())"
   ]
  },
  {
   "cell_type": "code",
   "execution_count": 6,
   "metadata": {},
   "outputs": [
    {
     "name": "stderr",
     "output_type": "stream",
     "text": [
      "100%|██████████| 6004535/6004535 [15:09<00:00, 6599.97it/s]\n"
     ]
    }
   ],
   "source": [
    "#문장 분리\n",
    "paragraphs_splited_by_sent = []\n",
    "for p in tqdm.tqdm(paragraphs):\n",
    "    paragraphs_splited_by_sent.append(kss.split_sentences(p))\n",
    "    "
   ]
  },
  {
   "cell_type": "code",
   "execution_count": 28,
   "metadata": {
    "scrolled": true
   },
   "outputs": [
    {
     "data": {
      "text/plain": [
       "6004535"
      ]
     },
     "execution_count": 28,
     "metadata": {},
     "output_type": "execute_result"
    }
   ],
   "source": [
    "len(paragraphs_splited_by_sent)"
   ]
  },
  {
   "cell_type": "code",
   "execution_count": 31,
   "metadata": {},
   "outputs": [
    {
     "data": {
      "text/plain": [
       "'0000'"
      ]
     },
     "execution_count": 31,
     "metadata": {},
     "output_type": "execute_result"
    }
   ],
   "source": [
    "#나누어서 저장\n",
    "num_articles = 10000\n",
    "prefix = \"data_\"\n",
    "digits = 4\n",
    "base_dir = \"/NAS_data/dwpark/corpus/splited/\"\n"
   ]
  },
  {
   "cell_type": "code",
   "execution_count": null,
   "metadata": {},
   "outputs": [
    {
     "name": "stderr",
     "output_type": "stream",
     "text": [
      "\n",
      "  0%|          | 0/6004535 [00:00<?, ?it/s]\u001b[A\n",
      "  0%|          | 5934/6004535 [00:00<01:41, 59339.77it/s]\u001b[A\n",
      "  0%|          | 10000/6004535 [00:00<02:52, 34696.45it/s]\u001b[A"
     ]
    },
    {
     "name": "stdout",
     "output_type": "stream",
     "text": [
      "Writeing 1-th file.\n"
     ]
    },
    {
     "name": "stderr",
     "output_type": "stream",
     "text": [
      "\n",
      "  0%|          | 16166/6004535 [00:00<02:29, 39934.79it/s]\u001b[A\n",
      "  0%|          | 20000/6004535 [00:00<03:28, 28695.16it/s]\u001b[A"
     ]
    },
    {
     "name": "stdout",
     "output_type": "stream",
     "text": [
      "Writeing 2-th file.\n"
     ]
    },
    {
     "name": "stderr",
     "output_type": "stream",
     "text": [
      "\n",
      "  0%|          | 26115/6004535 [00:00<02:55, 34129.22it/s]\u001b[A\n",
      "  0%|          | 30000/6004535 [00:00<03:47, 26319.31it/s]\u001b[A"
     ]
    },
    {
     "name": "stdout",
     "output_type": "stream",
     "text": [
      "Writeing 3-th file.\n"
     ]
    },
    {
     "name": "stderr",
     "output_type": "stream",
     "text": [
      "\n",
      "  1%|          | 36309/6004535 [00:01<03:07, 31895.87it/s]\u001b[A\n",
      "  1%|          | 40382/6004535 [00:01<03:52, 25698.93it/s]\u001b[A"
     ]
    },
    {
     "name": "stdout",
     "output_type": "stream",
     "text": [
      "Writeing 4-th file.\n"
     ]
    },
    {
     "name": "stderr",
     "output_type": "stream",
     "text": [
      "\n",
      "  1%|          | 46399/6004535 [00:01<03:12, 31026.72it/s]\u001b[A\n",
      "  1%|          | 50569/6004535 [00:01<03:52, 25612.28it/s]\u001b[A"
     ]
    },
    {
     "name": "stdout",
     "output_type": "stream",
     "text": [
      "Writeing 5-th file.\n"
     ]
    },
    {
     "name": "stderr",
     "output_type": "stream",
     "text": [
      "\n",
      "  1%|          | 57045/6004535 [00:01<03:10, 31285.63it/s]\u001b[A\n",
      "  1%|          | 61414/6004535 [00:01<03:47, 26072.17it/s]\u001b[A"
     ]
    },
    {
     "name": "stdout",
     "output_type": "stream",
     "text": [
      "Writeing 6-th file.\n"
     ]
    },
    {
     "name": "stderr",
     "output_type": "stream",
     "text": [
      "\n",
      "  1%|          | 68255/6004535 [00:02<03:05, 32016.46it/s]\u001b[A"
     ]
    },
    {
     "name": "stdout",
     "output_type": "stream",
     "text": [
      "Writeing 7-th file.\n"
     ]
    },
    {
     "name": "stderr",
     "output_type": "stream",
     "text": [
      "\n",
      "  1%|          | 72842/6004535 [00:02<03:48, 25969.63it/s]\u001b[A\n",
      "  1%|▏         | 79325/6004535 [00:02<03:07, 31663.35it/s]\u001b[A"
     ]
    },
    {
     "name": "stdout",
     "output_type": "stream",
     "text": [
      "Writeing 8-th file.\n"
     ]
    },
    {
     "name": "stderr",
     "output_type": "stream",
     "text": [
      "\n",
      "  1%|▏         | 83896/6004535 [00:02<03:50, 25730.07it/s]\u001b[A\n",
      "  1%|▏         | 90000/6004535 [00:02<03:55, 25100.23it/s]\u001b[A"
     ]
    },
    {
     "name": "stdout",
     "output_type": "stream",
     "text": [
      "Writeing 9-th file.\n"
     ]
    },
    {
     "name": "stderr",
     "output_type": "stream",
     "text": [
      "\n",
      "  2%|▏         | 95272/6004535 [00:03<03:18, 29780.65it/s]\u001b[A\n",
      "  2%|▏         | 100000/6004535 [00:03<03:48, 25882.56it/s]\u001b[A"
     ]
    },
    {
     "name": "stdout",
     "output_type": "stream",
     "text": [
      "Writeing 10-th file.\n"
     ]
    },
    {
     "name": "stderr",
     "output_type": "stream",
     "text": [
      "\n",
      "  2%|▏         | 105424/6004535 [00:03<03:12, 30696.81it/s]\u001b[A\n",
      "  2%|▏         | 110000/6004535 [00:03<03:46, 26045.39it/s]\u001b[A"
     ]
    },
    {
     "name": "stdout",
     "output_type": "stream",
     "text": [
      "Writeing 11-th file.\n"
     ]
    },
    {
     "name": "stderr",
     "output_type": "stream",
     "text": [
      "\n",
      "  2%|▏         | 115672/6004535 [00:03<03:09, 31088.58it/s]\u001b[A\n",
      "  2%|▏         | 120000/6004535 [00:03<03:46, 25971.38it/s]\u001b[A"
     ]
    },
    {
     "name": "stdout",
     "output_type": "stream",
     "text": [
      "Writeing 12-th file.\n"
     ]
    },
    {
     "name": "stderr",
     "output_type": "stream",
     "text": [
      "\n",
      "  2%|▏         | 125811/6004535 [00:04<03:08, 31136.98it/s]\u001b[A\n",
      "  2%|▏         | 130000/6004535 [00:04<03:48, 25699.52it/s]\u001b[A"
     ]
    },
    {
     "name": "stdout",
     "output_type": "stream",
     "text": [
      "Writeing 13-th file.\n"
     ]
    },
    {
     "name": "stderr",
     "output_type": "stream",
     "text": [
      "\n",
      "  2%|▏         | 135353/6004535 [00:04<03:12, 30448.08it/s]\u001b[A\n",
      "  2%|▏         | 140000/6004535 [00:04<03:45, 26051.20it/s]\u001b[A"
     ]
    },
    {
     "name": "stdout",
     "output_type": "stream",
     "text": [
      "Writeing 14-th file.\n"
     ]
    },
    {
     "name": "stderr",
     "output_type": "stream",
     "text": [
      "\n",
      "  2%|▏         | 146151/6004535 [00:04<03:05, 31497.99it/s]\u001b[A\n",
      "  3%|▎         | 150370/6004535 [00:04<03:44, 26023.61it/s]\u001b[A"
     ]
    },
    {
     "name": "stdout",
     "output_type": "stream",
     "text": [
      "Writeing 15-th file.\n"
     ]
    },
    {
     "name": "stderr",
     "output_type": "stream",
     "text": [
      "\n",
      "  3%|▎         | 157242/6004535 [00:05<03:02, 31984.88it/s]\u001b[A\n",
      "  3%|▎         | 161759/6004535 [00:05<03:37, 26878.84it/s]\u001b[A"
     ]
    },
    {
     "name": "stdout",
     "output_type": "stream",
     "text": [
      "Writeing 16-th file.\n"
     ]
    },
    {
     "name": "stderr",
     "output_type": "stream",
     "text": [
      "\n",
      "  3%|▎         | 168620/6004535 [00:05<02:57, 32875.10it/s]\u001b[A"
     ]
    },
    {
     "name": "stdout",
     "output_type": "stream",
     "text": [
      "Writeing 17-th file.\n"
     ]
    },
    {
     "name": "stderr",
     "output_type": "stream",
     "text": [
      "\n",
      "  3%|▎         | 173302/6004535 [00:05<03:31, 27548.24it/s]\u001b[A\n",
      "  3%|▎         | 180000/6004535 [00:05<03:35, 27055.97it/s]\u001b[A"
     ]
    },
    {
     "name": "stdout",
     "output_type": "stream",
     "text": [
      "Writeing 18-th file.\n"
     ]
    },
    {
     "name": "stderr",
     "output_type": "stream",
     "text": [
      "\n",
      "  3%|▎         | 188455/6004535 [00:05<02:51, 33989.66it/s]\u001b[A"
     ]
    },
    {
     "name": "stdout",
     "output_type": "stream",
     "text": [
      "Writeing 19-th file.\n"
     ]
    },
    {
     "name": "stderr",
     "output_type": "stream",
     "text": [
      "\n",
      "  3%|▎         | 193437/6004535 [00:06<03:27, 27955.38it/s]\u001b[A\n",
      "  3%|▎         | 200000/6004535 [00:06<03:34, 27037.10it/s]\u001b[A"
     ]
    },
    {
     "name": "stdout",
     "output_type": "stream",
     "text": [
      "Writeing 20-th file.\n"
     ]
    },
    {
     "name": "stderr",
     "output_type": "stream",
     "text": [
      "\n",
      "  3%|▎         | 205601/6004535 [00:06<03:01, 32003.15it/s]\u001b[A\n",
      "  3%|▎         | 210000/6004535 [00:06<03:39, 26357.87it/s]\u001b[A"
     ]
    },
    {
     "name": "stdout",
     "output_type": "stream",
     "text": [
      "Writeing 21-th file.\n"
     ]
    },
    {
     "name": "stderr",
     "output_type": "stream",
     "text": [
      "\n",
      "  4%|▎         | 215161/6004535 [00:06<03:07, 30892.21it/s]\u001b[A\n",
      "  4%|▎         | 220000/6004535 [00:07<03:38, 26465.96it/s]\u001b[A"
     ]
    },
    {
     "name": "stdout",
     "output_type": "stream",
     "text": [
      "Writeing 22-th file.\n"
     ]
    },
    {
     "name": "stderr",
     "output_type": "stream",
     "text": [
      "\n",
      "  4%|▍         | 225419/6004535 [00:07<03:04, 31264.31it/s]\u001b[A\n",
      "  4%|▍         | 230000/6004535 [00:07<03:37, 26539.16it/s]\u001b[A"
     ]
    },
    {
     "name": "stdout",
     "output_type": "stream",
     "text": [
      "Writeing 23-th file.\n"
     ]
    },
    {
     "name": "stderr",
     "output_type": "stream",
     "text": [
      "\n",
      "  4%|▍         | 235601/6004535 [00:07<03:03, 31513.09it/s]\u001b[A\n",
      "  4%|▍         | 240000/6004535 [00:07<03:38, 26330.02it/s]\u001b[A"
     ]
    },
    {
     "name": "stdout",
     "output_type": "stream",
     "text": [
      "Writeing 24-th file.\n"
     ]
    },
    {
     "name": "stderr",
     "output_type": "stream",
     "text": [
      "\n",
      "  4%|▍         | 246893/6004535 [00:07<02:58, 32322.69it/s]\u001b[A\n",
      "  4%|▍         | 251347/6004535 [00:08<03:34, 26874.66it/s]\u001b[A"
     ]
    },
    {
     "name": "stdout",
     "output_type": "stream",
     "text": [
      "Writeing 25-th file.\n"
     ]
    },
    {
     "name": "stderr",
     "output_type": "stream",
     "text": [
      "\n",
      "  4%|▍         | 258218/6004535 [00:08<02:54, 32879.81it/s]\u001b[A"
     ]
    },
    {
     "name": "stdout",
     "output_type": "stream",
     "text": [
      "Writeing 26-th file.\n"
     ]
    },
    {
     "name": "stderr",
     "output_type": "stream",
     "text": [
      "\n",
      "  4%|▍         | 262867/6004535 [00:08<03:29, 27398.20it/s]\u001b[A\n",
      "  4%|▍         | 269779/6004535 [00:08<02:51, 33455.86it/s]\u001b[A"
     ]
    },
    {
     "name": "stdout",
     "output_type": "stream",
     "text": [
      "Writeing 27-th file.\n"
     ]
    },
    {
     "name": "stderr",
     "output_type": "stream",
     "text": [
      "\n",
      "  5%|▍         | 274545/6004535 [00:08<03:21, 28430.78it/s]\u001b[A\n",
      "  5%|▍         | 280000/6004535 [00:09<03:33, 26756.42it/s]\u001b[A"
     ]
    },
    {
     "name": "stdout",
     "output_type": "stream",
     "text": [
      "Writeing 28-th file.\n"
     ]
    },
    {
     "name": "stderr",
     "output_type": "stream",
     "text": [
      "\n",
      "  5%|▍         | 288254/6004535 [00:09<02:50, 33560.68it/s]\u001b[A"
     ]
    },
    {
     "name": "stdout",
     "output_type": "stream",
     "text": [
      "Writeing 29-th file.\n"
     ]
    },
    {
     "name": "stderr",
     "output_type": "stream",
     "text": [
      "\n",
      "  5%|▍         | 293168/6004535 [00:09<03:29, 27319.01it/s]\u001b[A\n",
      "  5%|▍         | 299719/6004535 [00:09<02:52, 33109.37it/s]\u001b[A"
     ]
    },
    {
     "name": "stdout",
     "output_type": "stream",
     "text": [
      "Writeing 30-th file.\n"
     ]
    },
    {
     "name": "stderr",
     "output_type": "stream",
     "text": [
      "\n",
      "  5%|▌         | 304493/6004535 [00:09<03:32, 26802.26it/s]\u001b[A\n",
      "  5%|▌         | 310000/6004535 [00:10<03:46, 25155.25it/s]\u001b[A"
     ]
    },
    {
     "name": "stdout",
     "output_type": "stream",
     "text": [
      "Writeing 31-th file.\n"
     ]
    },
    {
     "name": "stderr",
     "output_type": "stream",
     "text": [
      "\n",
      "  5%|▌         | 315586/6004535 [00:10<03:08, 30122.04it/s]\u001b[A\n",
      "  5%|▌         | 320000/6004535 [00:10<03:42, 25595.82it/s]\u001b[A"
     ]
    },
    {
     "name": "stdout",
     "output_type": "stream",
     "text": [
      "Writeing 32-th file.\n"
     ]
    },
    {
     "name": "stderr",
     "output_type": "stream",
     "text": [
      "\n",
      "  5%|▌         | 325175/6004535 [00:10<03:08, 30169.56it/s]\u001b[A\n",
      "  5%|▌         | 330000/6004535 [00:10<03:35, 26338.96it/s]\u001b[A"
     ]
    },
    {
     "name": "stdout",
     "output_type": "stream",
     "text": [
      "Writeing 33-th file.\n"
     ]
    },
    {
     "name": "stderr",
     "output_type": "stream",
     "text": [
      "\n",
      "  6%|▌         | 335279/6004535 [00:10<03:02, 30998.45it/s]\u001b[A\n",
      "  6%|▌         | 340000/6004535 [00:11<03:31, 26756.42it/s]\u001b[A"
     ]
    },
    {
     "name": "stdout",
     "output_type": "stream",
     "text": [
      "Writeing 34-th file.\n"
     ]
    },
    {
     "name": "stderr",
     "output_type": "stream",
     "text": [
      "\n",
      "  6%|▌         | 343784/6004535 [00:11<03:13, 29325.63it/s]\u001b[A\n",
      "  6%|▌         | 350000/6004535 [00:11<03:18, 28436.86it/s]\u001b[A"
     ]
    },
    {
     "name": "stdout",
     "output_type": "stream",
     "text": [
      "Writeing 35-th file.\n"
     ]
    },
    {
     "name": "stderr",
     "output_type": "stream",
     "text": [
      "\n",
      "  6%|▌         | 355231/6004535 [00:11<02:51, 32947.51it/s]\u001b[A\n",
      "  6%|▌         | 360000/6004535 [00:11<03:20, 28122.27it/s]\u001b[A"
     ]
    },
    {
     "name": "stdout",
     "output_type": "stream",
     "text": [
      "Writeing 36-th file.\n"
     ]
    },
    {
     "name": "stderr",
     "output_type": "stream",
     "text": [
      "\n",
      "  6%|▌         | 364993/6004535 [00:11<02:54, 32362.49it/s]\u001b[A\n",
      "  5%|▌         | 330000/6004535 [00:29<03:21, 28164.94it/s]\u001b[A"
     ]
    },
    {
     "name": "stdout",
     "output_type": "stream",
     "text": [
      "Writeing 37-th file.\n"
     ]
    },
    {
     "name": "stderr",
     "output_type": "stream",
     "text": [
      "\n",
      "  6%|▌         | 374976/6004535 [00:12<02:53, 32372.26it/s]\u001b[A\n",
      "  6%|▋         | 380000/6004535 [00:12<03:20, 28081.13it/s]\u001b[A"
     ]
    },
    {
     "name": "stdout",
     "output_type": "stream",
     "text": [
      "Writeing 38-th file.\n"
     ]
    },
    {
     "name": "stderr",
     "output_type": "stream",
     "text": [
      "\n",
      "  6%|▋         | 384781/6004535 [00:12<02:55, 32047.39it/s]\u001b[A\n",
      "  6%|▋         | 390000/6004535 [00:12<03:19, 28127.72it/s]\u001b[A"
     ]
    },
    {
     "name": "stdout",
     "output_type": "stream",
     "text": [
      "Writeing 39-th file.\n"
     ]
    },
    {
     "name": "stderr",
     "output_type": "stream",
     "text": [
      "\n",
      "  7%|▋         | 394968/6004535 [00:12<02:53, 32336.01it/s]\u001b[A\n",
      "  7%|▋         | 400000/6004535 [00:13<03:19, 28134.39it/s]\u001b[A"
     ]
    },
    {
     "name": "stdout",
     "output_type": "stream",
     "text": [
      "Writeing 40-th file.\n"
     ]
    },
    {
     "name": "stderr",
     "output_type": "stream",
     "text": [
      "\n",
      "  7%|▋         | 403762/6004535 [00:13<03:04, 30434.96it/s]\u001b[A\n",
      "  7%|▋         | 410000/6004535 [00:13<03:11, 29169.52it/s]\u001b[A"
     ]
    },
    {
     "name": "stdout",
     "output_type": "stream",
     "text": [
      "Writeing 41-th file.\n"
     ]
    },
    {
     "name": "stderr",
     "output_type": "stream",
     "text": [
      "\n",
      "  7%|▋         | 414808/6004535 [00:13<02:49, 33071.13it/s]\u001b[A\n",
      "  7%|▋         | 420000/6004535 [00:13<03:14, 28772.15it/s]\u001b[A"
     ]
    },
    {
     "name": "stdout",
     "output_type": "stream",
     "text": [
      "Writeing 42-th file.\n"
     ]
    },
    {
     "name": "stderr",
     "output_type": "stream",
     "text": [
      "\n",
      "  7%|▋         | 425003/6004535 [00:13<02:49, 32975.14it/s]\u001b[A\n",
      "  7%|▋         | 430000/6004535 [00:14<03:15, 28562.19it/s]\u001b[A"
     ]
    },
    {
     "name": "stdout",
     "output_type": "stream",
     "text": [
      "Writeing 43-th file.\n"
     ]
    },
    {
     "name": "stderr",
     "output_type": "stream",
     "text": [
      "\n",
      "  7%|▋         | 434823/6004535 [00:14<03:15, 28531.09it/s]\u001b[A\n",
      "  7%|▋         | 439524/6004535 [00:14<02:52, 32345.35it/s]\u001b[A\n",
      "  7%|▋         | 443146/6004535 [00:14<03:13, 28673.59it/s]\u001b[A"
     ]
    },
    {
     "name": "stdout",
     "output_type": "stream",
     "text": [
      "Writeing 44-th file.\n"
     ]
    },
    {
     "name": "stderr",
     "output_type": "stream",
     "text": [
      "\n",
      "  7%|▋         | 449403/6004535 [00:14<02:42, 34237.23it/s]\u001b[A"
     ]
    },
    {
     "name": "stdout",
     "output_type": "stream",
     "text": [
      "Writeing 45-th file.\n"
     ]
    },
    {
     "name": "stderr",
     "output_type": "stream",
     "text": [
      "\n",
      "  8%|▊         | 453531/6004535 [00:14<03:31, 26300.53it/s]\u001b[A\n",
      "  8%|▊         | 460000/6004535 [00:15<03:33, 25955.03it/s]\u001b[A"
     ]
    },
    {
     "name": "stdout",
     "output_type": "stream",
     "text": [
      "Writeing 46-th file.\n"
     ]
    },
    {
     "name": "stderr",
     "output_type": "stream",
     "text": [
      "\n",
      "  8%|▊         | 464952/6004535 [00:15<03:02, 30277.29it/s]\u001b[A\n",
      "  8%|▊         | 469768/6004535 [00:15<02:42, 34071.45it/s]\u001b[A"
     ]
    },
    {
     "name": "stdout",
     "output_type": "stream",
     "text": [
      "Writeing 47-th file.\n"
     ]
    },
    {
     "name": "stderr",
     "output_type": "stream",
     "text": [
      "\n",
      "  8%|▊         | 473790/6004535 [00:15<03:33, 25883.20it/s]\u001b[A\n",
      "  8%|▊         | 480000/6004535 [00:15<03:36, 25469.33it/s]\u001b[A"
     ]
    },
    {
     "name": "stdout",
     "output_type": "stream",
     "text": [
      "Writeing 48-th file.\n"
     ]
    },
    {
     "name": "stderr",
     "output_type": "stream",
     "text": [
      "\n",
      "  8%|▊         | 486501/6004535 [00:15<02:57, 31150.51it/s]\u001b[A\n",
      "  8%|▊         | 490589/6004535 [00:16<03:30, 26144.17it/s]\u001b[A"
     ]
    },
    {
     "name": "stdout",
     "output_type": "stream",
     "text": [
      "Writeing 49-th file.\n"
     ]
    },
    {
     "name": "stderr",
     "output_type": "stream",
     "text": [
      "\n",
      "  8%|▊         | 497295/6004535 [00:16<02:52, 32000.50it/s]\u001b[A\n",
      "  8%|▊         | 501709/6004535 [00:16<03:22, 27224.22it/s]\u001b[A"
     ]
    },
    {
     "name": "stdout",
     "output_type": "stream",
     "text": [
      "Writeing 50-th file.\n"
     ]
    },
    {
     "name": "stderr",
     "output_type": "stream",
     "text": [
      "\n",
      "  8%|▊         | 508565/6004535 [00:16<02:45, 33235.29it/s]\u001b[A\n",
      "  9%|▊         | 513209/6004535 [00:16<03:13, 28337.45it/s]\u001b[A"
     ]
    },
    {
     "name": "stdout",
     "output_type": "stream",
     "text": [
      "Writeing 51-th file.\n"
     ]
    },
    {
     "name": "stderr",
     "output_type": "stream",
     "text": [
      "\n",
      "  9%|▊         | 520000/6004535 [00:16<03:17, 27740.36it/s]\u001b[A"
     ]
    },
    {
     "name": "stdout",
     "output_type": "stream",
     "text": [
      "Writeing 52-th file.\n"
     ]
    },
    {
     "name": "stderr",
     "output_type": "stream",
     "text": [
      "\n",
      "  9%|▊         | 525172/6004535 [00:17<02:50, 32221.32it/s]\u001b[A\n",
      "  9%|▉         | 530000/6004535 [00:17<03:15, 27990.73it/s]\u001b[A"
     ]
    },
    {
     "name": "stdout",
     "output_type": "stream",
     "text": [
      "Writeing 53-th file.\n"
     ]
    },
    {
     "name": "stderr",
     "output_type": "stream",
     "text": [
      "\n",
      "  9%|▉         | 535016/6004535 [00:17<02:49, 32269.30it/s]\u001b[A\n",
      "  9%|▉         | 540000/6004535 [00:17<03:15, 28000.31it/s]\u001b[A"
     ]
    },
    {
     "name": "stdout",
     "output_type": "stream",
     "text": [
      "Writeing 54-th file.\n"
     ]
    },
    {
     "name": "stderr",
     "output_type": "stream",
     "text": [
      "\n",
      "  9%|▉         | 544787/6004535 [00:17<02:50, 31982.00it/s]\u001b[A\n",
      "  9%|▉         | 550000/6004535 [00:17<03:13, 28198.62it/s]\u001b[A"
     ]
    },
    {
     "name": "stdout",
     "output_type": "stream",
     "text": [
      "Writeing 55-th file.\n"
     ]
    },
    {
     "name": "stderr",
     "output_type": "stream",
     "text": [
      "\n",
      "  9%|▉         | 554934/6004535 [00:18<02:48, 32356.95it/s]\u001b[A\n",
      "  9%|▉         | 560000/6004535 [00:18<03:13, 28094.33it/s]\u001b[A"
     ]
    },
    {
     "name": "stdout",
     "output_type": "stream",
     "text": [
      "Writeing 56-th file.\n"
     ]
    },
    {
     "name": "stderr",
     "output_type": "stream",
     "text": [
      "\n",
      "  9%|▉         | 564931/6004535 [00:18<02:48, 32256.83it/s]\u001b[A\n",
      "  9%|▉         | 570000/6004535 [00:18<03:12, 28221.97it/s]\u001b[A"
     ]
    },
    {
     "name": "stdout",
     "output_type": "stream",
     "text": [
      "Writeing 57-th file.\n"
     ]
    },
    {
     "name": "stderr",
     "output_type": "stream",
     "text": [
      "\n",
      " 10%|▉         | 575112/6004535 [00:18<02:46, 32601.99it/s]\u001b[A\n",
      " 10%|▉         | 580000/6004535 [00:18<03:11, 28319.87it/s]\u001b[A"
     ]
    },
    {
     "name": "stdout",
     "output_type": "stream",
     "text": [
      "Writeing 58-th file.\n"
     ]
    },
    {
     "name": "stderr",
     "output_type": "stream",
     "text": [
      "\n",
      " 10%|▉         | 584849/6004535 [00:19<02:47, 32356.48it/s]\u001b[A\n",
      " 10%|▉         | 590000/6004535 [00:19<03:12, 28146.25it/s]\u001b[A"
     ]
    },
    {
     "name": "stdout",
     "output_type": "stream",
     "text": [
      "Writeing 59-th file.\n"
     ]
    },
    {
     "name": "stderr",
     "output_type": "stream",
     "text": [
      "\n",
      " 10%|▉         | 595066/6004535 [00:19<02:46, 32475.27it/s]\u001b[A\n",
      " 10%|▉         | 600000/6004535 [00:19<03:11, 28233.98it/s]\u001b[A"
     ]
    },
    {
     "name": "stdout",
     "output_type": "stream",
     "text": [
      "Writeing 60-th file.\n"
     ]
    },
    {
     "name": "stderr",
     "output_type": "stream",
     "text": [
      "\n",
      " 10%|█         | 604950/6004535 [00:19<02:46, 32409.42it/s]\u001b[A\n",
      " 10%|█         | 610000/6004535 [00:19<03:10, 28303.82it/s]\u001b[A"
     ]
    },
    {
     "name": "stdout",
     "output_type": "stream",
     "text": [
      "Writeing 61-th file.\n"
     ]
    },
    {
     "name": "stderr",
     "output_type": "stream",
     "text": [
      "\n",
      " 10%|█         | 615000/6004535 [00:20<02:45, 32539.08it/s]\u001b[A\n",
      " 10%|█         | 620000/6004535 [00:20<03:09, 28350.46it/s]\u001b[A"
     ]
    },
    {
     "name": "stdout",
     "output_type": "stream",
     "text": [
      "Writeing 62-th file.\n"
     ]
    },
    {
     "name": "stderr",
     "output_type": "stream",
     "text": [
      "\n",
      " 10%|█         | 625013/6004535 [00:20<02:45, 32596.48it/s]\u001b[A\n",
      " 10%|█         | 630000/6004535 [00:20<03:08, 28466.71it/s]\u001b[A"
     ]
    },
    {
     "name": "stdout",
     "output_type": "stream",
     "text": [
      "Writeing 63-th file.\n"
     ]
    },
    {
     "name": "stderr",
     "output_type": "stream",
     "text": [
      "\n",
      " 11%|█         | 635040/6004535 [00:20<02:44, 32740.60it/s]\u001b[A\n",
      " 11%|█         | 640000/6004535 [00:20<03:09, 28327.20it/s]\u001b[A"
     ]
    },
    {
     "name": "stdout",
     "output_type": "stream",
     "text": [
      "Writeing 64-th file.\n"
     ]
    },
    {
     "name": "stderr",
     "output_type": "stream",
     "text": [
      "\n",
      " 11%|█         | 645081/6004535 [00:21<02:44, 32662.95it/s]\u001b[A\n",
      " 11%|█         | 650000/6004535 [00:21<03:08, 28336.77it/s]\u001b[A"
     ]
    },
    {
     "name": "stdout",
     "output_type": "stream",
     "text": [
      "Writeing 65-th file.\n"
     ]
    },
    {
     "name": "stderr",
     "output_type": "stream",
     "text": [
      "\n",
      " 11%|█         | 654802/6004535 [00:21<02:45, 32308.22it/s]\u001b[A\n",
      " 11%|█         | 660000/6004535 [00:21<03:08, 28413.97it/s]\u001b[A"
     ]
    },
    {
     "name": "stdout",
     "output_type": "stream",
     "text": [
      "Writeing 66-th file.\n"
     ]
    },
    {
     "name": "stderr",
     "output_type": "stream",
     "text": [
      "\n",
      " 11%|█         | 665113/6004535 [00:21<02:42, 32782.91it/s]\u001b[A\n",
      " 11%|█         | 670000/6004535 [00:21<03:08, 28249.81it/s]\u001b[A"
     ]
    },
    {
     "name": "stdout",
     "output_type": "stream",
     "text": [
      "Writeing 67-th file.\n"
     ]
    },
    {
     "name": "stderr",
     "output_type": "stream",
     "text": [
      "\n",
      " 11%|█         | 675279/6004535 [00:22<02:42, 32827.35it/s]\u001b[A\n",
      " 11%|█▏        | 680000/6004535 [00:22<03:10, 27924.31it/s]\u001b[A"
     ]
    },
    {
     "name": "stdout",
     "output_type": "stream",
     "text": [
      "Writeing 68-th file.\n"
     ]
    },
    {
     "name": "stderr",
     "output_type": "stream",
     "text": [
      "\n",
      " 11%|█▏        | 685034/6004535 [00:22<02:45, 32224.65it/s]\u001b[A\n",
      " 11%|█▏        | 690000/6004535 [00:22<03:08, 28191.57it/s]\u001b[A"
     ]
    },
    {
     "name": "stdout",
     "output_type": "stream",
     "text": [
      "Writeing 69-th file.\n"
     ]
    },
    {
     "name": "stderr",
     "output_type": "stream",
     "text": [
      "\n",
      " 12%|█▏        | 694898/6004535 [00:22<02:44, 32304.51it/s]\u001b[A\n",
      " 12%|█▏        | 700000/6004535 [00:22<03:08, 28084.25it/s]\u001b[A"
     ]
    },
    {
     "name": "stdout",
     "output_type": "stream",
     "text": [
      "Writeing 70-th file.\n"
     ]
    },
    {
     "name": "stderr",
     "output_type": "stream",
     "text": [
      "\n",
      " 12%|█▏        | 704806/6004535 [00:23<02:45, 32084.59it/s]\u001b[A\n",
      " 12%|█▏        | 710000/6004535 [00:23<03:05, 28470.83it/s]\u001b[A"
     ]
    },
    {
     "name": "stdout",
     "output_type": "stream",
     "text": [
      "Writeing 71-th file.\n"
     ]
    },
    {
     "name": "stderr",
     "output_type": "stream",
     "text": [
      "\n",
      " 12%|█▏        | 714877/6004535 [00:23<02:42, 32532.01it/s]\u001b[A\n",
      " 12%|█▏        | 720000/6004535 [00:23<03:06, 28301.08it/s]\u001b[A"
     ]
    },
    {
     "name": "stdout",
     "output_type": "stream",
     "text": [
      "Writeing 72-th file.\n"
     ]
    },
    {
     "name": "stderr",
     "output_type": "stream",
     "text": [
      "\n",
      " 12%|█▏        | 724907/6004535 [00:23<02:42, 32415.67it/s]\u001b[A\n",
      " 12%|█▏        | 730000/6004535 [00:23<03:06, 28341.89it/s]\u001b[A"
     ]
    },
    {
     "name": "stdout",
     "output_type": "stream",
     "text": [
      "Writeing 73-th file.\n"
     ]
    },
    {
     "name": "stderr",
     "output_type": "stream",
     "text": [
      "\n",
      " 12%|█▏        | 735045/6004535 [00:24<02:41, 32631.66it/s]\u001b[A\n",
      " 12%|█▏        | 740000/6004535 [00:24<03:06, 28270.73it/s]\u001b[A"
     ]
    },
    {
     "name": "stdout",
     "output_type": "stream",
     "text": [
      "Writeing 74-th file.\n"
     ]
    },
    {
     "name": "stderr",
     "output_type": "stream",
     "text": [
      "\n",
      " 12%|█▏        | 744979/6004535 [00:24<02:41, 32482.35it/s]\u001b[A\n",
      " 12%|█▏        | 750000/6004535 [00:24<03:05, 28344.25it/s]\u001b[A"
     ]
    },
    {
     "name": "stdout",
     "output_type": "stream",
     "text": [
      "Writeing 75-th file.\n"
     ]
    },
    {
     "name": "stderr",
     "output_type": "stream",
     "text": [
      "\n",
      " 13%|█▎        | 755792/6004535 [00:24<02:36, 33468.01it/s]\u001b[A\n",
      " 13%|█▎        | 760000/6004535 [00:24<03:11, 27457.72it/s]\u001b[A"
     ]
    },
    {
     "name": "stdout",
     "output_type": "stream",
     "text": [
      "Writeing 76-th file.\n"
     ]
    },
    {
     "name": "stderr",
     "output_type": "stream",
     "text": [
      "\n",
      " 13%|█▎        | 765205/6004535 [00:24<02:43, 31987.45it/s]\u001b[A\n",
      " 13%|█▎        | 770000/6004535 [00:25<03:09, 27597.00it/s]\u001b[A"
     ]
    },
    {
     "name": "stdout",
     "output_type": "stream",
     "text": [
      "Writeing 77-th file.\n"
     ]
    },
    {
     "name": "stderr",
     "output_type": "stream",
     "text": [
      "\n",
      " 13%|█▎        | 775372/6004535 [00:25<02:41, 32309.89it/s]\u001b[A\n",
      " 13%|█▎        | 780000/6004535 [00:25<03:08, 27703.08it/s]\u001b[A"
     ]
    },
    {
     "name": "stdout",
     "output_type": "stream",
     "text": [
      "Writeing 78-th file.\n"
     ]
    },
    {
     "name": "stderr",
     "output_type": "stream",
     "text": [
      "\n",
      " 13%|█▎        | 785058/6004535 [00:25<02:42, 32051.12it/s]\u001b[A\n",
      " 13%|█▎        | 790000/6004535 [00:25<03:05, 28039.70it/s]\u001b[A"
     ]
    },
    {
     "name": "stdout",
     "output_type": "stream",
     "text": [
      "Writeing 79-th file.\n"
     ]
    },
    {
     "name": "stderr",
     "output_type": "stream",
     "text": [
      "\n",
      " 13%|█▎        | 795088/6004535 [00:25<02:40, 32403.33it/s]\u001b[A\n",
      " 13%|█▎        | 800000/6004535 [00:26<03:05, 28123.76it/s]\u001b[A"
     ]
    },
    {
     "name": "stdout",
     "output_type": "stream",
     "text": [
      "Writeing 80-th file.\n"
     ]
    },
    {
     "name": "stderr",
     "output_type": "stream",
     "text": [
      "\n",
      " 13%|█▎        | 804654/6004535 [00:26<02:42, 31911.99it/s]\u001b[A\n",
      " 13%|█▎        | 810000/6004535 [00:26<03:03, 28278.91it/s]\u001b[A"
     ]
    },
    {
     "name": "stdout",
     "output_type": "stream",
     "text": [
      "Writeing 81-th file.\n"
     ]
    },
    {
     "name": "stderr",
     "output_type": "stream",
     "text": [
      "\n",
      " 14%|█▎        | 814743/6004535 [00:26<02:41, 32176.50it/s]\u001b[A\n",
      " 14%|█▎        | 820000/6004535 [00:26<03:02, 28359.74it/s]\u001b[A"
     ]
    },
    {
     "name": "stdout",
     "output_type": "stream",
     "text": [
      "Writeing 82-th file.\n"
     ]
    },
    {
     "name": "stderr",
     "output_type": "stream",
     "text": [
      "\n",
      " 14%|█▎        | 824896/6004535 [00:26<02:39, 32455.71it/s]\u001b[A\n",
      " 14%|█▍        | 830000/6004535 [00:27<03:01, 28482.32it/s]\u001b[A"
     ]
    },
    {
     "name": "stdout",
     "output_type": "stream",
     "text": [
      "Writeing 83-th file.\n"
     ]
    },
    {
     "name": "stderr",
     "output_type": "stream",
     "text": [
      "\n",
      " 14%|█▍        | 835139/6004535 [00:27<02:37, 32879.06it/s]\u001b[A\n",
      " 14%|█▍        | 840000/6004535 [00:27<03:01, 28444.18it/s]\u001b[A"
     ]
    },
    {
     "name": "stdout",
     "output_type": "stream",
     "text": [
      "Writeing 84-th file.\n"
     ]
    },
    {
     "name": "stderr",
     "output_type": "stream",
     "text": [
      "\n",
      " 14%|█▍        | 844932/6004535 [00:27<02:38, 32580.39it/s]\u001b[A\n",
      " 14%|█▍        | 850000/6004535 [00:27<03:01, 28393.89it/s]\u001b[A"
     ]
    },
    {
     "name": "stdout",
     "output_type": "stream",
     "text": [
      "Writeing 85-th file.\n"
     ]
    },
    {
     "name": "stderr",
     "output_type": "stream",
     "text": [
      "\n",
      " 14%|█▍        | 854856/6004535 [00:27<02:38, 32434.43it/s]\u001b[A\n",
      " 14%|█▍        | 860000/6004535 [00:28<03:01, 28317.06it/s]\u001b[A"
     ]
    },
    {
     "name": "stdout",
     "output_type": "stream",
     "text": [
      "Writeing 86-th file.\n"
     ]
    },
    {
     "name": "stderr",
     "output_type": "stream",
     "text": [
      "\n",
      " 14%|█▍        | 864805/6004535 [00:28<02:39, 32295.10it/s]\u001b[A\n",
      " 14%|█▍        | 870000/6004535 [00:28<03:00, 28392.30it/s]\u001b[A"
     ]
    },
    {
     "name": "stdout",
     "output_type": "stream",
     "text": [
      "Writeing 87-th file.\n"
     ]
    },
    {
     "name": "stderr",
     "output_type": "stream",
     "text": [
      "\n",
      " 15%|█▍        | 874937/6004535 [00:28<02:37, 32539.17it/s]\u001b[A\n",
      " 15%|█▍        | 880000/6004535 [00:28<03:01, 28242.68it/s]\u001b[A"
     ]
    },
    {
     "name": "stdout",
     "output_type": "stream",
     "text": [
      "Writeing 88-th file.\n"
     ]
    },
    {
     "name": "stderr",
     "output_type": "stream",
     "text": [
      "\n",
      " 15%|█▍        | 885602/6004535 [00:28<02:34, 33177.91it/s]\u001b[A\n",
      " 15%|█▍        | 890000/6004535 [00:29<03:05, 27554.00it/s]\u001b[A"
     ]
    },
    {
     "name": "stdout",
     "output_type": "stream",
     "text": [
      "Writeing 89-th file.\n"
     ]
    },
    {
     "name": "stderr",
     "output_type": "stream",
     "text": [
      "\n",
      " 15%|█▍        | 895320/6004535 [00:29<02:38, 32212.53it/s]\u001b[A\n",
      " 15%|█▍        | 900000/6004535 [00:29<03:03, 27775.73it/s]\u001b[A"
     ]
    },
    {
     "name": "stdout",
     "output_type": "stream",
     "text": [
      "Writeing 90-th file.\n"
     ]
    },
    {
     "name": "stderr",
     "output_type": "stream",
     "text": [
      "\n",
      " 15%|█▌        | 905035/6004535 [00:29<02:38, 32087.19it/s]\u001b[A\n",
      " 15%|█▌        | 910000/6004535 [00:29<03:02, 27947.58it/s]\u001b[A"
     ]
    },
    {
     "name": "stdout",
     "output_type": "stream",
     "text": [
      "Writeing 91-th file.\n"
     ]
    },
    {
     "name": "stderr",
     "output_type": "stream",
     "text": [
      "\n",
      " 15%|█▌        | 914993/6004535 [00:29<02:38, 32199.91it/s]\u001b[A\n",
      " 15%|█▌        | 920000/6004535 [00:30<03:00, 28115.65it/s]\u001b[A"
     ]
    },
    {
     "name": "stdout",
     "output_type": "stream",
     "text": [
      "Writeing 92-th file.\n"
     ]
    },
    {
     "name": "stderr",
     "output_type": "stream",
     "text": [
      "\n",
      " 15%|█▌        | 924949/6004535 [00:30<02:37, 32300.02it/s]\u001b[A\n",
      " 15%|█▌        | 930000/6004535 [00:30<02:59, 28292.19it/s]\u001b[A"
     ]
    },
    {
     "name": "stdout",
     "output_type": "stream",
     "text": [
      "Writeing 93-th file.\n"
     ]
    },
    {
     "name": "stderr",
     "output_type": "stream",
     "text": [
      "\n",
      " 16%|█▌        | 934961/6004535 [00:30<02:36, 32478.54it/s]\u001b[A\n",
      " 16%|█▌        | 940000/6004535 [00:30<02:59, 28242.97it/s]\u001b[A"
     ]
    },
    {
     "name": "stdout",
     "output_type": "stream",
     "text": [
      "Writeing 94-th file.\n"
     ]
    },
    {
     "name": "stderr",
     "output_type": "stream",
     "text": [
      "\n",
      " 16%|█▌        | 944964/6004535 [00:30<02:35, 32437.57it/s]\u001b[A\n",
      " 16%|█▌        | 950000/6004535 [00:31<02:58, 28257.92it/s]\u001b[A"
     ]
    },
    {
     "name": "stdout",
     "output_type": "stream",
     "text": [
      "Writeing 95-th file.\n"
     ]
    },
    {
     "name": "stderr",
     "output_type": "stream",
     "text": [
      "\n",
      " 16%|█▌        | 954893/6004535 [00:31<02:36, 32359.13it/s]\u001b[A\n",
      " 16%|█▌        | 960000/6004535 [00:31<02:58, 28314.13it/s]\u001b[A"
     ]
    },
    {
     "name": "stdout",
     "output_type": "stream",
     "text": [
      "Writeing 96-th file.\n"
     ]
    },
    {
     "name": "stderr",
     "output_type": "stream",
     "text": [
      "\n",
      " 16%|█▌        | 964943/6004535 [00:31<02:35, 32475.90it/s]\u001b[A\n",
      " 16%|█▌        | 970000/6004535 [00:31<02:58, 28174.55it/s]\u001b[A"
     ]
    },
    {
     "name": "stdout",
     "output_type": "stream",
     "text": [
      "Writeing 97-th file.\n"
     ]
    },
    {
     "name": "stderr",
     "output_type": "stream",
     "text": [
      "\n",
      " 16%|█▌        | 975109/6004535 [00:31<02:34, 32554.70it/s]\u001b[A\n",
      " 16%|█▋        | 980000/6004535 [00:32<02:58, 28115.08it/s]\u001b[A"
     ]
    },
    {
     "name": "stdout",
     "output_type": "stream",
     "text": [
      "Writeing 98-th file.\n"
     ]
    },
    {
     "name": "stderr",
     "output_type": "stream",
     "text": [
      "\n",
      " 16%|█▋        | 984970/6004535 [00:32<02:35, 32326.65it/s]\u001b[A\n",
      " 16%|█▋        | 990000/6004535 [00:32<02:56, 28413.43it/s]\u001b[A"
     ]
    },
    {
     "name": "stdout",
     "output_type": "stream",
     "text": [
      "Writeing 99-th file.\n"
     ]
    },
    {
     "name": "stderr",
     "output_type": "stream",
     "text": [
      "\n",
      " 17%|█▋        | 994928/6004535 [00:32<02:33, 32547.72it/s]\u001b[A\n",
      " 17%|█▋        | 1000000/6004535 [00:32<02:57, 28197.32it/s]\u001b[A"
     ]
    },
    {
     "name": "stdout",
     "output_type": "stream",
     "text": [
      "Writeing 100-th file.\n"
     ]
    },
    {
     "name": "stderr",
     "output_type": "stream",
     "text": [
      "\n",
      " 17%|█▋        | 1005322/6004535 [00:32<02:32, 32827.39it/s]\u001b[A\n",
      " 17%|█▋        | 1010000/6004535 [00:33<02:57, 28079.81it/s]\u001b[A"
     ]
    },
    {
     "name": "stdout",
     "output_type": "stream",
     "text": [
      "Writeing 101-th file.\n"
     ]
    },
    {
     "name": "stderr",
     "output_type": "stream",
     "text": [
      "\n",
      " 17%|█▋        | 1014897/6004535 [00:33<02:34, 32199.94it/s]\u001b[A\n",
      " 17%|█▋        | 1020000/6004535 [00:33<02:56, 28163.04it/s]\u001b[A"
     ]
    },
    {
     "name": "stdout",
     "output_type": "stream",
     "text": [
      "Writeing 102-th file.\n"
     ]
    },
    {
     "name": "stderr",
     "output_type": "stream",
     "text": [
      "\n",
      " 17%|█▋        | 1024978/6004535 [00:33<02:33, 32381.03it/s]\u001b[A\n",
      " 17%|█▋        | 1030000/6004535 [00:33<02:56, 28184.35it/s]\u001b[A"
     ]
    },
    {
     "name": "stdout",
     "output_type": "stream",
     "text": [
      "Writeing 103-th file.\n"
     ]
    },
    {
     "name": "stderr",
     "output_type": "stream",
     "text": [
      "\n",
      " 17%|█▋        | 1035027/6004535 [00:33<02:33, 32462.28it/s]\u001b[A\n",
      " 17%|█▋        | 1040000/6004535 [00:34<02:55, 28268.50it/s]\u001b[A"
     ]
    },
    {
     "name": "stdout",
     "output_type": "stream",
     "text": [
      "Writeing 104-th file.\n"
     ]
    },
    {
     "name": "stderr",
     "output_type": "stream",
     "text": [
      "\n",
      " 17%|█▋        | 1045004/6004535 [00:34<02:32, 32511.34it/s]\u001b[A\n",
      " 17%|█▋        | 1050000/6004535 [00:34<02:55, 28179.95it/s]\u001b[A"
     ]
    },
    {
     "name": "stdout",
     "output_type": "stream",
     "text": [
      "Writeing 105-th file.\n"
     ]
    },
    {
     "name": "stderr",
     "output_type": "stream",
     "text": [
      "\n",
      " 18%|█▊        | 1055140/6004535 [00:34<02:31, 32596.98it/s]\u001b[A\n",
      " 18%|█▊        | 1060000/6004535 [00:34<02:55, 28217.85it/s]\u001b[A"
     ]
    },
    {
     "name": "stdout",
     "output_type": "stream",
     "text": [
      "Writeing 106-th file.\n"
     ]
    },
    {
     "name": "stderr",
     "output_type": "stream",
     "text": [
      "\n",
      " 18%|█▊        | 1065003/6004535 [00:34<02:32, 32463.49it/s]\u001b[A\n",
      " 18%|█▊        | 1070000/6004535 [00:35<02:54, 28273.24it/s]\u001b[A"
     ]
    },
    {
     "name": "stdout",
     "output_type": "stream",
     "text": [
      "Writeing 107-th file.\n"
     ]
    },
    {
     "name": "stderr",
     "output_type": "stream",
     "text": [
      "\n",
      " 18%|█▊        | 1075013/6004535 [00:35<02:31, 32527.29it/s]\u001b[A\n",
      " 18%|█▊        | 1078860/6004535 [00:35<03:01, 27199.30it/s]\u001b[A\n",
      " 18%|█▊        | 1082449/6004535 [00:35<02:47, 29327.72it/s]\u001b[A\n",
      " 18%|█▊        | 1089188/6004535 [00:35<02:19, 35308.54it/s]\u001b[A"
     ]
    },
    {
     "name": "stdout",
     "output_type": "stream",
     "text": [
      "Writeing 108-th file.\n",
      "Writeing 109-th file.\n"
     ]
    },
    {
     "name": "stderr",
     "output_type": "stream",
     "text": [
      "\n",
      " 18%|█▊        | 1093571/6004535 [00:35<02:58, 27451.34it/s]\u001b[A\n",
      " 18%|█▊        | 1100000/6004535 [00:36<03:03, 26735.42it/s]\u001b[A"
     ]
    },
    {
     "name": "stdout",
     "output_type": "stream",
     "text": [
      "Writeing 110-th file.\n"
     ]
    },
    {
     "name": "stderr",
     "output_type": "stream",
     "text": [
      "\n",
      " 18%|█▊        | 1104925/6004535 [00:36<02:38, 30984.82it/s]\u001b[A\n",
      " 18%|█▊        | 1110000/6004535 [00:36<02:58, 27369.78it/s]\u001b[A"
     ]
    },
    {
     "name": "stdout",
     "output_type": "stream",
     "text": [
      "Writeing 111-th file.\n"
     ]
    },
    {
     "name": "stderr",
     "output_type": "stream",
     "text": [
      "\n",
      " 19%|█▊        | 1114923/6004535 [00:36<02:34, 31576.00it/s]\u001b[A\n",
      " 19%|█▊        | 1120000/6004535 [00:36<02:55, 27906.55it/s]\u001b[A"
     ]
    },
    {
     "name": "stdout",
     "output_type": "stream",
     "text": [
      "Writeing 112-th file.\n"
     ]
    },
    {
     "name": "stderr",
     "output_type": "stream",
     "text": [
      "\n",
      " 19%|█▊        | 1124949/6004535 [00:36<02:31, 32107.29it/s]\u001b[A\n",
      " 19%|█▉        | 1130000/6004535 [00:37<02:53, 28120.81it/s]\u001b[A"
     ]
    }
   ],
   "source": [
    "num_file = 0\n",
    "fp = open(os.path.join(base_dir, prefix+str(num_file).zfill(digits)), \"w\")\n",
    "for i, p in enumerate(tqdm.tqdm(paragraphs_splited_by_sent)):\n",
    "    if (i + 1) % num_articles == 0:\n",
    "        num_file = (i + 1) // num_articles\n",
    "        print(\"Writeing {}-th file.\".format(num_file))\n",
    "        fp.close()\n",
    "        num_file+= 1\n",
    "        fp = open(os.path.join(base_dir, prefix+str(num_file).zfill(digits)), \"w\")\n",
    "    for line in p:\n",
    "        fp.write(line)\n",
    "        fp.write(\"\\n\")\n",
    "        \n",
    "    fp.write(\"\\n\")\n",
    "        \n",
    "    "
   ]
  },
  {
   "cell_type": "code",
   "execution_count": null,
   "metadata": {},
   "outputs": [],
   "source": []
  }
 ],
 "metadata": {
  "kernelspec": {
   "display_name": "Python 3",
   "language": "python",
   "name": "python3"
  },
  "language_info": {
   "codemirror_mode": {
    "name": "ipython",
    "version": 3
   },
   "file_extension": ".py",
   "mimetype": "text/x-python",
   "name": "python",
   "nbconvert_exporter": "python",
   "pygments_lexer": "ipython3",
   "version": "3.6.9"
  }
 },
 "nbformat": 4,
 "nbformat_minor": 4
}
